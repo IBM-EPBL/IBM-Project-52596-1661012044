{
  "nbformat": 4,
  "nbformat_minor": 0,
  "metadata": {
    "colab": {
      "provenance": []
    },
    "kernelspec": {
      "name": "python3",
      "display_name": "Python 3"
    },
    "language_info": {
      "name": "python"
    }
  },
  "cells": [
    {
      "cell_type": "code",
      "execution_count": 1,
      "metadata": {
        "colab": {
          "base_uri": "https://localhost:8080/"
        },
        "id": "x38fAiR2HYOr",
        "outputId": "04273d09-f92c-42f3-d69d-4b60d727b930"
      },
      "outputs": [
        {
          "output_type": "stream",
          "name": "stdout",
          "text": [
            "Mounted at /content/drive\n"
          ]
        }
      ],
      "source": [
        "from google.colab import drive\n",
        "drive.mount('/content/drive')"
      ]
    },
    {
      "cell_type": "code",
      "source": [
        "ls"
      ],
      "metadata": {
        "id": "x5m_yeckHi1t"
      },
      "execution_count": null,
      "outputs": []
    },
    {
      "cell_type": "code",
      "source": [
        "cd /content/dataset"
      ],
      "metadata": {
        "colab": {
          "base_uri": "https://localhost:8080/"
        },
        "id": "QyOK23s4PV6a",
        "outputId": "183f9b3c-07f0-4516-d5f9-8b769bbc4529"
      },
      "execution_count": 17,
      "outputs": [
        {
          "output_type": "stream",
          "name": "stdout",
          "text": [
            "/content/dataset\n"
          ]
        }
      ]
    },
    {
      "cell_type": "code",
      "source": [
        "ls"
      ],
      "metadata": {
        "colab": {
          "base_uri": "https://localhost:8080/"
        },
        "id": "YpmBt7hlPa6C",
        "outputId": "4e397e60-74df-4f78-dc1a-564e727a8f12"
      },
      "execution_count": 18,
      "outputs": [
        {
          "output_type": "stream",
          "name": "stdout",
          "text": [
            "readme.txt  \u001b[0m\u001b[01;34mtest_set\u001b[0m/  \u001b[01;34mtrain_set\u001b[0m/\n"
          ]
        }
      ]
    },
    {
      "cell_type": "code",
      "source": [
        "pwd"
      ],
      "metadata": {
        "colab": {
          "base_uri": "https://localhost:8080/",
          "height": 35
        },
        "id": "IdN_L11HPeDy",
        "outputId": "910a25e4-c065-4b33-f0a8-d97cbec999ec"
      },
      "execution_count": 19,
      "outputs": [
        {
          "output_type": "execute_result",
          "data": {
            "text/plain": [
              "'/content/dataset'"
            ],
            "application/vnd.google.colaboratory.intrinsic+json": {
              "type": "string"
            }
          },
          "metadata": {},
          "execution_count": 19
        }
      ]
    },
    {
      "cell_type": "code",
      "source": [
        "# importing imagedatagenerator library\n",
        "\n",
        "from tensorflow.keras.preprocessing.image import ImageDataGenerator"
      ],
      "metadata": {
        "id": "qQfoCCAiPc-i"
      },
      "execution_count": 20,
      "outputs": []
    },
    {
      "cell_type": "code",
      "source": [
        "#Configuring image Data Generator Class\n",
        "#Setting Parameter for Image Augmentation for training data\n",
        "\n",
        "train_datagen=ImageDataGenerator(rescale=1./255,horizontal_flip=True,vertical_flip=True, zoom_range=0.2)"
      ],
      "metadata": {
        "id": "ITad0BK-Pj9D"
      },
      "execution_count": 21,
      "outputs": []
    },
    {
      "cell_type": "code",
      "source": [
        "#Image Data Augmentation for testing data\n",
        "\n",
        "test_datagen= ImageDataGenerator(rescale=1./255)"
      ],
      "metadata": {
        "id": "9-BGPRxnPmk7"
      },
      "execution_count": 22,
      "outputs": []
    },
    {
      "cell_type": "code",
      "source": [
        "x_train = train_datagen.flow_from_directory('/content/dataset/train_set', target_size = (64,64), batch_size = 5, color_mode = 'rgb', class_mode = 'categorical')"
      ],
      "metadata": {
        "colab": {
          "base_uri": "https://localhost:8080/"
        },
        "id": "CJX1l_DSPpGr",
        "outputId": "c6ce5aec-505a-492c-df8a-1829273c07b0"
      },
      "execution_count": 24,
      "outputs": [
        {
          "output_type": "stream",
          "name": "stdout",
          "text": [
            "Found 742 images belonging to 4 classes.\n"
          ]
        }
      ]
    },
    {
      "cell_type": "code",
      "source": [
        "#performing data augmentation to test data\n",
        "\n",
        "x_test = test_datagen.flow_from_directory('/content/dataset/test_set', target_size = (64,64), batch_size = 5, color_mode = 'rgb', class_mode = 'categorical')"
      ],
      "metadata": {
        "colab": {
          "base_uri": "https://localhost:8080/"
        },
        "id": "pNb3gc4OQEgR",
        "outputId": "4fcd6ad6-687b-41db-e9e8-5a4a0a4157d2"
      },
      "execution_count": 27,
      "outputs": [
        {
          "output_type": "stream",
          "name": "stdout",
          "text": [
            "Found 198 images belonging to 4 classes.\n"
          ]
        }
      ]
    },
    {
      "cell_type": "code",
      "source": [
        "#importing neccessary libraries\n",
        "\n",
        "import numpy as np\n",
        "import tensorflow\n",
        "from tensorflow.keras.models import Sequential\n",
        "from tensorflow.keras.layers import Dense,Conv2D,MaxPooling2D,Flatten"
      ],
      "metadata": {
        "id": "1e3zT3ysQicK"
      },
      "execution_count": 28,
      "outputs": []
    },
    {
      "cell_type": "code",
      "source": [
        "# initialising the model and adding CNN layers\n",
        "\n",
        "model = Sequential()\n",
        "\n",
        "# First convolution layer and pooling\n",
        "\n",
        "model.add(Conv2D(32,(3,3),input_shape=(64,64,3),activation='relu'))\n",
        "model.add(MaxPooling2D(pool_size=(2,2)))\n",
        "\n",
        "#Second convolution layer and pooling\n",
        "\n",
        "model.add(Conv2D(32,(3,3),activation='relu'))\n",
        "model.add(MaxPooling2D(pool_size=(2,2)))\n",
        "\n",
        "#Flattening the layers\n",
        "\n",
        "model.add(Flatten())\n",
        "\n",
        "#Adding Dense Layers\n",
        "\n",
        "model.add(Dense(units=128,activation='relu'))\n",
        "model.add(Dense(units=4,activation='softmax'))"
      ],
      "metadata": {
        "id": "Wr6lSSmOQlMq"
      },
      "execution_count": 29,
      "outputs": []
    },
    {
      "cell_type": "code",
      "source": [
        "# Summary of our model\n",
        "\n",
        "model.summary()"
      ],
      "metadata": {
        "colab": {
          "base_uri": "https://localhost:8080/"
        },
        "id": "YtJ7S-3CQofS",
        "outputId": "1f19c937-1a44-4ba5-c14b-5eae43288a86"
      },
      "execution_count": 30,
      "outputs": [
        {
          "output_type": "stream",
          "name": "stdout",
          "text": [
            "Model: \"sequential_1\"\n",
            "_________________________________________________________________\n",
            " Layer (type)                Output Shape              Param #   \n",
            "=================================================================\n",
            " conv2d_2 (Conv2D)           (None, 62, 62, 32)        896       \n",
            "                                                                 \n",
            " max_pooling2d_2 (MaxPooling  (None, 31, 31, 32)       0         \n",
            " 2D)                                                             \n",
            "                                                                 \n",
            " conv2d_3 (Conv2D)           (None, 29, 29, 32)        9248      \n",
            "                                                                 \n",
            " max_pooling2d_3 (MaxPooling  (None, 14, 14, 32)       0         \n",
            " 2D)                                                             \n",
            "                                                                 \n",
            " flatten_1 (Flatten)         (None, 6272)              0         \n",
            "                                                                 \n",
            " dense_2 (Dense)             (None, 128)               802944    \n",
            "                                                                 \n",
            " dense_3 (Dense)             (None, 4)                 516       \n",
            "                                                                 \n",
            "=================================================================\n",
            "Total params: 813,604\n",
            "Trainable params: 813,604\n",
            "Non-trainable params: 0\n",
            "_________________________________________________________________\n"
          ]
        }
      ]
    },
    {
      "cell_type": "code",
      "source": [
        "# Compiling the model\n",
        "\n",
        "model.compile(optimizer='adam', loss='categorical_crossentropy', metrics=['accuracy'])"
      ],
      "metadata": {
        "id": "5nQ6BQLzQrCC"
      },
      "execution_count": 31,
      "outputs": []
    },
    {
      "cell_type": "code",
      "source": [
        "# Fitting the model\n",
        "\n",
        "model.fit_generator(generator=x_train,steps_per_epoch=len(x_train),epochs=20,validation_data=x_test,validation_steps=len(x_test))"
      ],
      "metadata": {
        "colab": {
          "base_uri": "https://localhost:8080/"
        },
        "id": "6XDbfzJ2QuDK",
        "outputId": "0d6cbfc1-6ca8-42b8-b7e2-eb3f12330976"
      },
      "execution_count": 32,
      "outputs": [
        {
          "output_type": "stream",
          "name": "stderr",
          "text": [
            "/usr/local/lib/python3.7/dist-packages/ipykernel_launcher.py:3: UserWarning: `Model.fit_generator` is deprecated and will be removed in a future version. Please use `Model.fit`, which supports generators.\n",
            "  This is separate from the ipykernel package so we can avoid doing imports until\n"
          ]
        },
        {
          "output_type": "stream",
          "name": "stdout",
          "text": [
            "Epoch 1/20\n",
            "149/149 [==============================] - 38s 256ms/step - loss: 1.2586 - accuracy: 0.4286 - val_loss: 1.1121 - val_accuracy: 0.5303\n",
            "Epoch 2/20\n",
            "149/149 [==============================] - 40s 271ms/step - loss: 1.0141 - accuracy: 0.5647 - val_loss: 0.9079 - val_accuracy: 0.5758\n",
            "Epoch 3/20\n",
            "149/149 [==============================] - 39s 262ms/step - loss: 0.8624 - accuracy: 0.6105 - val_loss: 0.8347 - val_accuracy: 0.7172\n",
            "Epoch 4/20\n",
            "149/149 [==============================] - 41s 277ms/step - loss: 0.7852 - accuracy: 0.6833 - val_loss: 0.7621 - val_accuracy: 0.7273\n",
            "Epoch 5/20\n",
            "149/149 [==============================] - 37s 251ms/step - loss: 0.7274 - accuracy: 0.6914 - val_loss: 0.6853 - val_accuracy: 0.7677\n",
            "Epoch 6/20\n",
            "149/149 [==============================] - 39s 261ms/step - loss: 0.6840 - accuracy: 0.7197 - val_loss: 0.7027 - val_accuracy: 0.7576\n",
            "Epoch 7/20\n",
            "149/149 [==============================] - 38s 256ms/step - loss: 0.6456 - accuracy: 0.7439 - val_loss: 0.6658 - val_accuracy: 0.7727\n",
            "Epoch 8/20\n",
            "149/149 [==============================] - 39s 262ms/step - loss: 0.6113 - accuracy: 0.7615 - val_loss: 0.6614 - val_accuracy: 0.7525\n",
            "Epoch 9/20\n",
            "149/149 [==============================] - 39s 259ms/step - loss: 0.5217 - accuracy: 0.7844 - val_loss: 0.7239 - val_accuracy: 0.7475\n",
            "Epoch 10/20\n",
            "149/149 [==============================] - 39s 256ms/step - loss: 0.5236 - accuracy: 0.8032 - val_loss: 0.6516 - val_accuracy: 0.7879\n",
            "Epoch 11/20\n",
            "149/149 [==============================] - 38s 254ms/step - loss: 0.4681 - accuracy: 0.8235 - val_loss: 0.7333 - val_accuracy: 0.7172\n",
            "Epoch 12/20\n",
            "149/149 [==============================] - 39s 260ms/step - loss: 0.4474 - accuracy: 0.8356 - val_loss: 0.6956 - val_accuracy: 0.7374\n",
            "Epoch 13/20\n",
            "149/149 [==============================] - 41s 275ms/step - loss: 0.4257 - accuracy: 0.8383 - val_loss: 0.6078 - val_accuracy: 0.8030\n",
            "Epoch 14/20\n",
            "149/149 [==============================] - 39s 260ms/step - loss: 0.4451 - accuracy: 0.8221 - val_loss: 0.6338 - val_accuracy: 0.8131\n",
            "Epoch 15/20\n",
            "149/149 [==============================] - 38s 253ms/step - loss: 0.4255 - accuracy: 0.8329 - val_loss: 0.6109 - val_accuracy: 0.7727\n",
            "Epoch 16/20\n",
            "149/149 [==============================] - 39s 261ms/step - loss: 0.4036 - accuracy: 0.8491 - val_loss: 0.7249 - val_accuracy: 0.7424\n",
            "Epoch 17/20\n",
            "149/149 [==============================] - 39s 258ms/step - loss: 0.3875 - accuracy: 0.8491 - val_loss: 0.6339 - val_accuracy: 0.7879\n",
            "Epoch 18/20\n",
            "149/149 [==============================] - 38s 249ms/step - loss: 0.3159 - accuracy: 0.8922 - val_loss: 0.6900 - val_accuracy: 0.8081\n",
            "Epoch 19/20\n",
            "149/149 [==============================] - 41s 272ms/step - loss: 0.3540 - accuracy: 0.8585 - val_loss: 0.8502 - val_accuracy: 0.7576\n",
            "Epoch 20/20\n",
            "149/149 [==============================] - 39s 263ms/step - loss: 0.3255 - accuracy: 0.8814 - val_loss: 0.6721 - val_accuracy: 0.8182\n"
          ]
        },
        {
          "output_type": "execute_result",
          "data": {
            "text/plain": [
              "<keras.callbacks.History at 0x7f9ec03c4210>"
            ]
          },
          "metadata": {},
          "execution_count": 32
        }
      ]
    },
    {
      "cell_type": "code",
      "source": [
        "model.save('naturaldisaster.h5')\n",
        "model_json = model.to_json()\n",
        "with open(\"model-bw.json\", \"w\") as json_file:\n",
        "  json_file.write(model_json)"
      ],
      "metadata": {
        "id": "39S0MSfOT-5B"
      },
      "execution_count": 33,
      "outputs": []
    },
    {
      "cell_type": "code",
      "source": [
        "from tensorflow.keras.models import load_model\n",
        "from tensorflow.keras.preprocessing import image\n",
        "model = load_model('naturaldisaster.h5')"
      ],
      "metadata": {
        "id": "Aj5eLsPBUCah"
      },
      "execution_count": 34,
      "outputs": []
    },
    {
      "cell_type": "code",
      "source": [
        "x_train.class_indices"
      ],
      "metadata": {
        "colab": {
          "base_uri": "https://localhost:8080/"
        },
        "id": "-ayeyhNSUDxB",
        "outputId": "4d2740e0-a9d6-4e00-b549-762cf2bde4a8"
      },
      "execution_count": 35,
      "outputs": [
        {
          "output_type": "execute_result",
          "data": {
            "text/plain": [
              "{'Cyclone': 0, 'Earthquake': 1, 'Flood': 2, 'Wildfire': 3}"
            ]
          },
          "metadata": {},
          "execution_count": 35
        }
      ]
    },
    {
      "cell_type": "code",
      "source": [
        "img = image.load_img('/content/dataset/test_set/Earthquake/1333.jpg',target_size=(64,64))\n",
        "x=image.img_to_array(img)\n",
        "x=np.expand_dims(x,axis=0)\n",
        "index=['Cyclone','Earthquake','Flood','Wildfire']\n",
        "y=np.argmax(model.predict(x),axis=1)\n",
        "print(index[int(y)])"
      ],
      "metadata": {
        "colab": {
          "base_uri": "https://localhost:8080/"
        },
        "id": "dhNpi103UJOY",
        "outputId": "2b47ff54-fe80-4e99-ae86-6a7b2b53cd0c"
      },
      "execution_count": 37,
      "outputs": [
        {
          "output_type": "stream",
          "name": "stdout",
          "text": [
            "1/1 [==============================] - 0s 111ms/step\n",
            "Earthquake\n"
          ]
        }
      ]
    },
    {
      "cell_type": "code",
      "source": [
        "img = image.load_img('/content/dataset/test_set/Flood/1009.jpg',target_size=(64,64))\n",
        "x=image.img_to_array(img)\n",
        "x=np.expand_dims(x,axis=0)\n",
        "index=['Cyclone','Earthquake','Flood','Wildfire']\n",
        "y=np.argmax(model.predict(x),axis=1)\n",
        "print(index[int(y)])"
      ],
      "metadata": {
        "colab": {
          "base_uri": "https://localhost:8080/"
        },
        "id": "J9JTT5hDUXvB",
        "outputId": "73fa92ea-0fe9-4b99-ae50-427d1348f163"
      },
      "execution_count": 39,
      "outputs": [
        {
          "output_type": "stream",
          "name": "stdout",
          "text": [
            "1/1 [==============================] - 0s 20ms/step\n",
            "Flood\n"
          ]
        }
      ]
    },
    {
      "cell_type": "code",
      "source": [
        "# input 3\n",
        "\n",
        "img = image.load_img('/content/dataset/test_set/Wildfire/1038.jpg',target_size=(64,64))\n",
        "x=image.img_to_array(img)\n",
        "x=np.expand_dims(x,axis=0)\n",
        "index=['Cyclone','Earthquake','Flood','Wildfire']\n",
        "y=np.argmax(model.predict(x),axis=1)\n",
        "print(index[int(y)])"
      ],
      "metadata": {
        "colab": {
          "base_uri": "https://localhost:8080/"
        },
        "id": "5CAORpkuUtPZ",
        "outputId": "5a38594e-3ffb-4aad-837c-a265175f3820"
      },
      "execution_count": 42,
      "outputs": [
        {
          "output_type": "stream",
          "name": "stdout",
          "text": [
            "1/1 [==============================] - 0s 20ms/step\n",
            "Wildfire\n"
          ]
        }
      ]
    },
    {
      "cell_type": "code",
      "source": [
        "# input 4\n",
        "\n",
        "img = image.load_img('/content/dataset/test_set/Cyclone/903.jpg',target_size=(64,64))\n",
        "x=image.img_to_array(img)\n",
        "x=np.expand_dims(x,axis=0)\n",
        "index=['Cyclone','Earthquake','Flood','Wildfire']\n",
        "y=np.argmax(model.predict(x),axis=1)\n",
        "print(index[int(y)])"
      ],
      "metadata": {
        "colab": {
          "base_uri": "https://localhost:8080/"
        },
        "id": "VXZ22RCAU84Z",
        "outputId": "a5f7cb73-7c33-4f44-fe29-92ed15d194d8"
      },
      "execution_count": 43,
      "outputs": [
        {
          "output_type": "stream",
          "name": "stdout",
          "text": [
            "1/1 [==============================] - 0s 36ms/step\n",
            "Cyclone\n"
          ]
        }
      ]
    }
  ]
}